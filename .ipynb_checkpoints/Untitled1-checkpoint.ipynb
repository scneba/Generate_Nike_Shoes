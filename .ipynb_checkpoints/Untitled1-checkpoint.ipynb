{
 "cells": [
  {
   "cell_type": "markdown",
   "metadata": {
    "deletable": true,
    "editable": true
   },
   "source": [
    "##  Image generation using Deep convolutional generative adversary networks example.\n",
    "\n",
    "The **Deep Convolutional Generative Adversary Network(DCGAN)** is based on the idea of  **Generative Adversary Network(GAN)** first used at University of Montreal by  **Ian J. Goodfellow** and his colleaques. [Here](https://arxiv.org/abs/1406.2661) is the original paper for GANs published in 2014. This repo presents an example of using DCGAN to generate Nike shoes from 100 Nike shoes downloaded from the internet.\n",
    "\n",
    "### Original Images used\n",
    "![Example of Images Used](./Capture.jpg)\n",
    "\n",
    "### File Organisation\n",
    "- functions.py - This file contains all the functions used in this repo.\n",
    "- app.ipynb - This is the Ipython notebook originally used to train the network.\n",
    "- app.ppy - This is the python file which is  an alternative to the Ipython Notebook that can be ran from the command line.\n",
    "- Shoes - Folder containing shoes used as training data for this model.\n",
    "\n",
    "#### Usage\n",
    "- This project can be ran directly from the notebook and this line `input_images_path =glob(\"Shoes/*\")` changed to the path images that will be used to train the network. The `generator` generates images of size `(128x128x3)` which is also the input to the  `discriminator`. In order to change the image size, the `generator` has to be adapted to output the image size and the `image_size = (128,128,3)` in the second cell of the Notebook changed to the corresponding size. Please, endevour to use a squared iamge size to improve performance of model.\n",
    "- The model can also be ran from the command line. Just type `python app.py -h` to get help on how to run model:\n",
    "#### python app.py -h\n",
    "![Example of Images Used](./help.jpg)\n",
    "\n",
    "#### Examples\n",
    "- **python app.py Shoes/** \n",
    " - Run model on images in path **Shoes/**\n",
    " \n",
    "- **python app.py Shoes/ --b 20 --e 100 --s 5 --d 20** \n",
    " - Path to images **Shoes/**.\n",
    " - Batch size: **20**\n",
    " - Number of Epochs: **100**\n",
    " - Show loss after a count of **5**\n",
    " - Display generated images after a count of **20**\n",
    " \n",
    " \n",
    " #### Results\n",
    " These are the results obtained using just **100** downloaded Nike shoes. These shoes are included in the repo [here](./Shoes/).\n",
    " \n",
    "![Results1](./results1.jpg)\n",
    "![Results2](./result2.jpg)\n",
    "\n",
    "\n",
    "\n",
    "\n",
    "\n",
    "### License\n",
    "Anybody is free to download and make changes to this project as long as they reference this work.\n",
    "\n",
    "\n"
   ]
  }
 ],
 "metadata": {
  "anaconda-cloud": {},
  "kernelspec": {
   "display_name": "Python [conda env:stk]",
   "language": "python",
   "name": "conda-env-stk-py"
  },
  "language_info": {
   "codemirror_mode": {
    "name": "ipython",
    "version": 3
   },
   "file_extension": ".py",
   "mimetype": "text/x-python",
   "name": "python",
   "nbconvert_exporter": "python",
   "pygments_lexer": "ipython3",
   "version": "3.5.3"
  }
 },
 "nbformat": 4,
 "nbformat_minor": 2
}
